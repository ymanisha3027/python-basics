{
 "cells": [
  {
   "cell_type": "code",
   "execution_count": 7,
   "metadata": {},
   "outputs": [
    {
     "name": "stdout",
     "output_type": "stream",
     "text": [
      "sachin t-shirt number is 10\n"
     ]
    }
   ],
   "source": [
    "# Sample Question print - sachin t - shirt number is 10\n",
    "name = \"sachin\"\n",
    "t_shirt = 10\n",
    "# Your Answer\n",
    "\n",
    "print(name,\"t-shirt number is\",t_shirt)"
   ]
  },
  {
   "cell_type": "code",
   "execution_count": 2,
   "metadata": {},
   "outputs": [
    {
     "name": "stdout",
     "output_type": "stream",
     "text": [
      "india is number 1 team and has won 2012 worldcup and it rank 1 and the captain name is kholi\n"
     ]
    }
   ],
   "source": [
    "# 1 . Question | print - India is number 1 team and has won 2012 worldcup and it rank 1 and the captain name is kholi\n",
    "team = \"india\"\n",
    "worldcup = 2012\n",
    "captain = \"kholi\"\n",
    "rank = 1\n",
    "\n",
    "\n",
    "print(team,\"is number\",rank,\"team and has won\",worldcup,\"worldcup and it rank\",rank,\"and the captain name is\",captain)\n",
    "\n",
    "\n",
    "\n",
    "\n"
   ]
  },
  {
   "cell_type": "code",
   "execution_count": 3,
   "metadata": {},
   "outputs": [
    {
     "name": "stdout",
     "output_type": "stream",
     "text": [
      "<class 'int'>\n",
      "<class 'float'>\n",
      "<class 'str'>\n"
     ]
    }
   ],
   "source": [
    "# 2 . Question |print the datatype of the x,y,z\n",
    "\n",
    "x = 56\n",
    "y = 56.78\n",
    "z ='python'\n",
    "print(type(x))\n",
    "print(type(y))\n",
    "print(type(z))\n",
    "\n",
    "\n",
    "\n",
    "\n"
   ]
  },
  {
   "cell_type": "code",
   "execution_count": 4,
   "metadata": {},
   "outputs": [
    {
     "name": "stdout",
     "output_type": "stream",
     "text": [
      "10.0\n"
     ]
    }
   ],
   "source": [
    "# 3 . Question | write a program to print 10.0 using typecasting\n",
    "\n",
    "a = 10\n",
    "\n",
    "# Your Answer\n",
    "b=float(a)\n",
    "print(b)\n",
    "\n",
    "\n",
    "\n"
   ]
  },
  {
   "cell_type": "code",
   "execution_count": 5,
   "metadata": {},
   "outputs": [
    {
     "name": "stdout",
     "output_type": "stream",
     "text": [
      "12\n"
     ]
    }
   ],
   "source": [
    "# 4 . Question | write a program to print 12 using typecasting\n",
    "\n",
    "a = 12.56\n",
    "\n",
    "# Your Answer\n",
    "b=int(a)\n",
    "print(b)\n",
    "\n"
   ]
  },
  {
   "cell_type": "code",
   "execution_count": 6,
   "metadata": {},
   "outputs": [
    {
     "name": "stdout",
     "output_type": "stream",
     "text": [
      "30\n"
     ]
    }
   ],
   "source": [
    "# 5 . write a program print 30 by using typecasting conncept\n",
    "\n",
    "a = \"10\"\n",
    "b = \"20\"\n",
    "\n",
    "# Your Answer\n",
    "a=int(a)\n",
    "b=int(b)\n",
    "print(a+b)\n",
    "\n",
    "\n",
    "\n"
   ]
  }
 ],
 "metadata": {
  "kernelspec": {
   "display_name": "Python 3 (ipykernel)",
   "language": "python",
   "name": "python3"
  },
  "language_info": {
   "codemirror_mode": {
    "name": "ipython",
    "version": 3
   },
   "file_extension": ".py",
   "mimetype": "text/x-python",
   "name": "python",
   "nbconvert_exporter": "python",
   "pygments_lexer": "ipython3",
   "version": "3.10.9"
  }
 },
 "nbformat": 4,
 "nbformat_minor": 2
}
